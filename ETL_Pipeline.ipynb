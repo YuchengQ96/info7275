{
 "cells": [
  {
   "cell_type": "code",
   "execution_count": null,
   "metadata": {},
   "outputs": [],
   "source": [
    "# !pip install cassandra-driver\n",
    "# !pip install prettytable"
   ]
  },
  {
   "cell_type": "code",
   "execution_count": 1,
   "metadata": {},
   "outputs": [],
   "source": [
    "import pandas as pd\n",
    "import cassandra\n",
    "from cassandra.query import UNSET_VALUE\n",
    "import re\n",
    "import os\n",
    "import glob\n",
    "import numpy as np\n",
    "import json\n",
    "import csv\n",
    "from prettytable import PrettyTable\n",
    "import datetime"
   ]
  },
  {
   "cell_type": "code",
   "execution_count": 42,
   "metadata": {},
   "outputs": [
    {
     "name": "stdout",
     "output_type": "stream",
     "text": [
      "C:\\Users\\qycer\\iCloudDrive\\INFO7275\\Project\n"
     ]
    }
   ],
   "source": [
    "\n",
    "# checking your current working directory\n",
    "print(os.getcwd())\n",
    "\n",
    "# Get your current folder and subfolder event data\n",
    "filepath = os.getcwd() + '/product_data'\n",
    "\n",
    "# Create a for loop to create a list of files and collect each filepath\n",
    "for root, dirs, files in os.walk(filepath):\n",
    "    \n",
    "# join the file path and roots with the subdirectories using glob\n",
    "    file_path_list = glob.glob(os.path.join(root,'*'))\n",
    "    #print(file_path_list)"
   ]
  },
  {
   "cell_type": "code",
   "execution_count": 43,
   "metadata": {
    "scrolled": false
   },
   "outputs": [
    {
     "name": "stdout",
     "output_type": "stream",
     "text": [
      "7299\n"
     ]
    }
   ],
   "source": [
    "# initiating an empty list of rows that will be generated from each file\n",
    "full_data_rows_list = [] \n",
    "    \n",
    "# for every filepath in the file path list \n",
    "for f in file_path_list:\n",
    "\n",
    "# reading csv file \n",
    "    with open(f, 'r', encoding = 'utf8', newline='') as csvfile: \n",
    "        # creating a csv reader object \n",
    "        csvreader = csv.reader(csvfile) \n",
    "        next(csvreader)\n",
    "        \n",
    " # extracting each data row one by one and append it        \n",
    "        for line in csvreader:\n",
    "            full_data_rows_list.append(line) \n",
    "            \n",
    "print(len(full_data_rows_list))"
   ]
  },
  {
   "cell_type": "code",
   "execution_count": 129,
   "metadata": {},
   "outputs": [],
   "source": [
    "# creating a smaller event data csv file called event_datafile_full csv that will be used to insert data into the \\\n",
    "# Apache Cassandra tables\n",
    "csv.register_dialect('myDialect', quoting=csv.QUOTE_ALL, skipinitialspace=True)\n",
    "\n",
    "with open('product_datafile_new.csv', 'w', encoding = 'utf8', newline='') as f:\n",
    "    writer = csv.writer(f, dialect='myDialect')\n",
    "    writer.writerow(['productid','asins','brand','categories','colors','dateAdded',\n",
    "                     'dateUpdated','dimension','imageURLs','manufacturer',\n",
    "                     'manufacturerNumber','ProductName','primaryCategories',\n",
    "                     'reviews_date','reviews_doRecommend','reviews_numHelpful',\n",
    "                     'reviews_rating','reviews_text','reviews_title',\n",
    "                     'reviews_username','weight'])\n",
    "    for row in full_data_rows_list:\n",
    "        if (row[0] == ''):\n",
    "            continue\n",
    "        writer.writerow(row)"
   ]
  },
  {
   "cell_type": "code",
   "execution_count": 2,
   "metadata": {
    "scrolled": true
   },
   "outputs": [
    {
     "name": "stdout",
     "output_type": "stream",
     "text": [
      "7300\n"
     ]
    }
   ],
   "source": [
    "# check the number of rows in your csv file\n",
    "with open('product_datafile_new.csv', 'r', encoding = 'utf8') as f:\n",
    "    print(sum(1 for line in f))"
   ]
  },
  {
   "cell_type": "code",
   "execution_count": 2,
   "metadata": {},
   "outputs": [
    {
     "name": "stdout",
     "output_type": "stream",
     "text": [
      "4.0.0.684\n"
     ]
    }
   ],
   "source": [
    "#################### CONNECT TO DATASTAX CASSANDRA ########################\n",
    "from cassandra.cluster import Cluster\n",
    "from cassandra.auth import PlainTextAuthProvider\n",
    "\n",
    "cloud_config= {\n",
    "        'secure_connect_bundle': 'C:/Users/qycer/\\iCloudDrive/INFO7275/\\Project/secure-connect-team6-projecct.zip'\n",
    "}\n",
    "auth_provider = PlainTextAuthProvider('team6', 'info7275')\n",
    "cluster = Cluster(cloud=cloud_config, auth_provider=auth_provider)\n",
    "session = cluster.connect()\n",
    "\n",
    "row = session.execute(\"select release_version from system.local\").one()\n",
    "if row:\n",
    "    print(row[0])\n",
    "else:\n",
    "    print(\"An error occurred.\")"
   ]
  },
  {
   "cell_type": "code",
   "execution_count": 3,
   "metadata": {},
   "outputs": [],
   "source": [
    "############# SET THE KEYSPACES ########\n",
    "try:\n",
    "    session.set_keyspace('project')\n",
    "except Exception as e:\n",
    "    print(e)"
   ]
  },
  {
   "cell_type": "code",
   "execution_count": 12,
   "metadata": {},
   "outputs": [],
   "source": [
    "########### READ DATA FROM CSV ###############\n",
    "#rawdf = pd.read_csv('product_datafile_new.csv')"
   ]
  },
  {
   "cell_type": "code",
   "execution_count": 10,
   "metadata": {
    "scrolled": false
   },
   "outputs": [],
   "source": [
    "#Convert date string into DATAFRAME\n",
    "df = rawdf\n",
    "df['Reviews_ID'] = df.index+1\n",
    "#for i in range(df.shape[0]):\n",
    "#    if pd.isnull(df['reviews_date'][i]):\n",
    "#        continue\n",
    "#    else:\n",
    "#        df.loc[i, 'reviews_date'] = datetime.datetime.strptime(df['reviews_date'][i][:10],\"%Y-%m-%d\")\n",
    "\n",
    "####VERY IMPORTANT: CONVERT TO NONE CORRECTLY)\n",
    "#df1 = df.where(pd.notnull(df), None)\n",
    "df1 = df.replace(np.nan, None)"
   ]
  },
  {
   "cell_type": "code",
   "execution_count": 11,
   "metadata": {
    "scrolled": false
   },
   "outputs": [],
   "source": [
    "#df[df.duplicated(subset = ['productid', 'brand', 'ProductName', 'reviews_username'], keep = 'first')]\n",
    "df2 = df1.drop_duplicates(subset = ['productid', 'brand', 'ProductName', 'reviews_username'], keep = 'first')"
   ]
  },
  {
   "cell_type": "code",
   "execution_count": 171,
   "metadata": {},
   "outputs": [],
   "source": [
    "df2.to_csv('productdata.csv', index=False)"
   ]
  },
  {
   "cell_type": "code",
   "execution_count": 4,
   "metadata": {
    "scrolled": false
   },
   "outputs": [],
   "source": [
    "\n",
    "############### new data source using ####################\n",
    "\n",
    "\n",
    "df2 = pd.read_csv('productdata.csv')"
   ]
  },
  {
   "cell_type": "markdown",
   "metadata": {},
   "source": [
    "#CQL DO NOT EXECUTE HERE \\\\\n",
    "CREATE TABLE IF NOT EXISTS customer_reviews (productid text,\n",
    "                                             ProductName text,\n",
    "                                             reviews.date date,\n",
    "                                             reviews.doRecommend boolean,\n",
    "                                             reviews.numHelpful int,\n",
    "                                             reviews.rating float,\n",
    "                                             reviews.text text,\n",
    "                                             reviews.title text,\n",
    "                                             reviews.username text,\n",
    "                                             PRIMARY KEY (productid), reviews.rating, reviews.date)"
   ]
  },
  {
   "cell_type": "markdown",
   "metadata": {},
   "source": [
    "## Table: customer_reviews"
   ]
  },
  {
   "cell_type": "code",
   "execution_count": 193,
   "metadata": {},
   "outputs": [],
   "source": [
    "create_reviews = \"\"\"CREATE TABLE IF NOT EXISTS customer_reviews (\n",
    "                                                reviews_id int,\n",
    "                                                productid text,\n",
    "                                                ProductName text,\n",
    "                                                brand text,\n",
    "                                                reviews_date timestamp,\n",
    "                                                reviews_doRecommend boolean,\n",
    "                                                reviews_numHelpful float,\n",
    "                                                reviews_rating float,\n",
    "                                                reviews_text text,\n",
    "                                                reviews_title text,\n",
    "                                                reviews_username text,\n",
    "                                                PRIMARY KEY((reviews_id, productid, brand, ProductName, reviews_username),\n",
    "                                                reviews_rating\n",
    "                                                ))\"\"\"\n",
    "try:\n",
    "    rows = session.execute(create_reviews)\n",
    "except Exception as e:\n",
    "    print(e)"
   ]
  },
  {
   "cell_type": "code",
   "execution_count": 194,
   "metadata": {},
   "outputs": [],
   "source": [
    "query_insert_customer_reviews = \"\"\"INSERT INTO customer_reviews(\n",
    "                                                reviews_id,\n",
    "                                                productid,\n",
    "                                                ProductName,\n",
    "                                                brand,\n",
    "                                                reviews_date,\n",
    "                                                reviews_doRecommend,\n",
    "                                                reviews_numHelpful,\n",
    "                                                reviews_rating,\n",
    "                                                reviews_text,\n",
    "                                                reviews_title,\n",
    "                                                reviews_username\n",
    "                                                ) VALUES (%s, %s, %s, %s, %s, %s, %s, %s, %s, %s, %s)\"\"\"\n",
    "\n",
    "\n",
    "for index, row in df2.iterrows():\n",
    "    try:\n",
    "        session.execute(query_insert_customer_reviews,\n",
    "                        (row[\"Reviews_ID\"], row[\"productid\"], row[\"ProductName\"], row['brand'], row[\"reviews_date\"],\n",
    "                         row[\"reviews_doRecommend\"], row[\"reviews_numHelpful\"],\n",
    "                         row[\"reviews_rating\"], row[\"reviews_text\"], row[\"reviews_title\"],\n",
    "                         row[\"reviews_username\"]))   \n",
    "    except Exception as e:\n",
    "        print(e)\n",
    "        \n",
    "#### NEED TO DEAL WITH EMPTY DATA #####(CONVERT THEM TO \"NONE\")"
   ]
  },
  {
   "cell_type": "code",
   "execution_count": 181,
   "metadata": {},
   "outputs": [
    {
     "data": {
      "text/plain": [
       "<cassandra.cluster.ResultSet at 0x2037aa86ba8>"
      ]
     },
     "execution_count": 181,
     "metadata": {},
     "output_type": "execute_result"
    }
   ],
   "source": [
    "#If in a mess, just drop the entire table!\n",
    "session.execute(\"drop table customer_reviews\")"
   ]
  },
  {
   "cell_type": "code",
   "execution_count": 168,
   "metadata": {},
   "outputs": [
    {
     "name": "stdout",
     "output_type": "stream",
     "text": [
      "6983\n"
     ]
    },
    {
     "name": "stderr",
     "output_type": "stream",
     "text": [
      "C:\\Users\\qycer\\Anaconda3\\lib\\site-packages\\ipykernel_launcher.py:7: DeprecationWarning: ResultSet indexing support will be removed in 4.0. Consider using ResultSet.one() to get a single row.\n",
      "  import sys\n"
     ]
    }
   ],
   "source": [
    "#CHECK HOW MANY WE HAVE INSERTED\n",
    "select_reviews_info = \"\"\"SELECT count(*)\n",
    "                            FROM customer_reviews\"\"\"\n",
    "\n",
    "try:\n",
    "    rows = session.execute(select_reviews_info)\n",
    "    print (rows[0].count)\n",
    "except Exception as e:\n",
    "    print(e)"
   ]
  },
  {
   "cell_type": "markdown",
   "metadata": {},
   "source": [
    "## Table: product_details"
   ]
  },
  {
   "cell_type": "code",
   "execution_count": 18,
   "metadata": {
    "scrolled": true
   },
   "outputs": [
    {
     "data": {
      "text/plain": [
       "(50, 22)"
      ]
     },
     "execution_count": 18,
     "metadata": {},
     "output_type": "execute_result"
    }
   ],
   "source": [
    "df3.shape"
   ]
  },
  {
   "cell_type": "code",
   "execution_count": 45,
   "metadata": {},
   "outputs": [],
   "source": [
    "df3 = df2.drop_duplicates(subset = ['ProductName', 'productid', 'dateAdded', 'primaryCategories'], keep = 'first')"
   ]
  },
  {
   "cell_type": "code",
   "execution_count": 196,
   "metadata": {},
   "outputs": [],
   "source": [
    "create_product_details = \"\"\"CREATE TABLE IF NOT EXISTS product_details (\n",
    "                                                productid text,\n",
    "                                                ProductName text,\n",
    "                                                brand text,\n",
    "                                                categories text,\n",
    "                                                colors text,\n",
    "                                                dateAdded timestamp,\n",
    "                                                dateUpdated timestamp,\n",
    "                                                manufacturer text,\n",
    "                                                manufacturerNumber text,\n",
    "                                                primaryCategories text,\n",
    "                                                PRIMARY KEY((ProductName, productid, dateAdded, primaryCategories),\n",
    "                                                colors,brand\n",
    "                                                ))\"\"\"\n",
    "try:\n",
    "    rows = session.execute(create_product_details)\n",
    "except Exception as e:\n",
    "    print(e)"
   ]
  },
  {
   "cell_type": "code",
   "execution_count": 198,
   "metadata": {
    "scrolled": true
   },
   "outputs": [],
   "source": [
    "query_insert_product_details = \"\"\"INSERT INTO product_details (\n",
    "                                                productid,\n",
    "                                                ProductName,\n",
    "                                                brand,\n",
    "                                                categories,\n",
    "                                                colors,\n",
    "                                                dateAdded,\n",
    "                                                dateUpdated,\n",
    "                                                manufacturer,\n",
    "                                                manufacturerNumber,\n",
    "                                                primaryCategories                                            \n",
    "                                                ) VALUES (%s, %s, %s, %s, %s, %s, %s, %s, %s, %s)\"\"\"\n",
    "\n",
    "#with open(file, encoding = 'utf8') as f:\n",
    "#    csvreader = csv.reader(f)\n",
    "#    next(csvreader) # skip header\n",
    "\n",
    "for index, row in df3.iterrows():\n",
    "    try:\n",
    "        session.execute(query_insert_product_details,\n",
    "                        (row[\"productid\"], row[\"ProductName\"], row['brand'], row[\"categories\"],\n",
    "                         row[\"colors\"], row[\"dateAdded\"], row[\"dateUpdated\"],\n",
    "                         row[\"manufacturer\"], row[\"manufacturerNumber\"], \n",
    "                         row[\"primaryCategories\"]))   \n",
    "    except Exception as e:\n",
    "        print(e)\n",
    "        \n",
    "#### NEED TO DEAL WITH EMPTY DATA #####(CONVERT THEM TO \"NONE\")"
   ]
  },
  {
   "cell_type": "code",
   "execution_count": 195,
   "metadata": {
    "scrolled": true
   },
   "outputs": [
    {
     "data": {
      "text/plain": [
       "<cassandra.cluster.ResultSet at 0x203000d2400>"
      ]
     },
     "execution_count": 195,
     "metadata": {},
     "output_type": "execute_result"
    }
   ],
   "source": [
    "#If in a mess, just drop the entire table!\n",
    "session.execute(\"drop table product_details\")"
   ]
  },
  {
   "cell_type": "code",
   "execution_count": 199,
   "metadata": {},
   "outputs": [
    {
     "name": "stdout",
     "output_type": "stream",
     "text": [
      "50\n"
     ]
    },
    {
     "name": "stderr",
     "output_type": "stream",
     "text": [
      "C:\\Users\\qycer\\Anaconda3\\lib\\site-packages\\ipykernel_launcher.py:7: DeprecationWarning: ResultSet indexing support will be removed in 4.0. Consider using ResultSet.one() to get a single row.\n",
      "  import sys\n"
     ]
    }
   ],
   "source": [
    "#CHECK HOW MANY WE HAVE INSERTED\n",
    "select_product_details_info = \"\"\"SELECT count(*)\n",
    "                            FROM product_details\"\"\"\n",
    "\n",
    "try:\n",
    "    rows = session.execute(select_product_details_info)\n",
    "    print (rows[0].count)\n",
    "except Exception as e:\n",
    "    print(e)"
   ]
  },
  {
   "cell_type": "markdown",
   "metadata": {},
   "source": [
    "## Table: product"
   ]
  },
  {
   "cell_type": "code",
   "execution_count": 53,
   "metadata": {},
   "outputs": [],
   "source": [
    "create_product = \"\"\"CREATE TABLE IF NOT EXISTS product (\n",
    "                                                productid text,\n",
    "                                                ProductName text,\n",
    "                                                brand text,\n",
    "                                                categories text,\n",
    "                                                colors text,\n",
    "                                                primaryCategories text,\n",
    "                                                PRIMARY KEY(brand, productid)\n",
    "                                                \n",
    "                                                )\"\"\"\n",
    "try:\n",
    "    rows = session.execute(create_product)\n",
    "except Exception as e:\n",
    "    print(e)"
   ]
  },
  {
   "cell_type": "code",
   "execution_count": 54,
   "metadata": {},
   "outputs": [],
   "source": [
    "query_insert_product = \"\"\"INSERT INTO product (\n",
    "                                                productid,\n",
    "                                                ProductName,\n",
    "                                                brand,\n",
    "                                                categories,\n",
    "                                                colors,\n",
    "                                                primaryCategories                                            \n",
    "                                                ) VALUES (%s, %s, %s, %s, %s, %s)\"\"\"\n",
    "\n",
    "#with open(file, encoding = 'utf8') as f:\n",
    "#    csvreader = csv.reader(f)\n",
    "#    next(csvreader) # skip header\n",
    "\n",
    "for index, row in df3.iterrows():\n",
    "    try:\n",
    "        session.execute(query_insert_product,\n",
    "                        (row[\"productid\"], row[\"ProductName\"], row['brand'], row[\"categories\"],\n",
    "                         row[\"colors\"], row[\"primaryCategories\"]))   \n",
    "    except Exception as e:\n",
    "        print(e)"
   ]
  },
  {
   "cell_type": "code",
   "execution_count": 52,
   "metadata": {},
   "outputs": [
    {
     "data": {
      "text/plain": [
       "<cassandra.cluster.ResultSet at 0x29f6b571e10>"
      ]
     },
     "execution_count": 52,
     "metadata": {},
     "output_type": "execute_result"
    }
   ],
   "source": [
    "#If in a mess, just drop the entire table!\n",
    "session.execute(\"drop table product\")"
   ]
  },
  {
   "cell_type": "code",
   "execution_count": 55,
   "metadata": {
    "scrolled": false
   },
   "outputs": [
    {
     "name": "stdout",
     "output_type": "stream",
     "text": [
      "50\n"
     ]
    },
    {
     "name": "stderr",
     "output_type": "stream",
     "text": [
      "C:\\Users\\qycer\\Anaconda3\\lib\\site-packages\\ipykernel_launcher.py:7: DeprecationWarning: ResultSet indexing support will be removed in 4.0. Consider using ResultSet.one() to get a single row.\n",
      "  import sys\n"
     ]
    }
   ],
   "source": [
    "#CHECK HOW MANY WE HAVE INSERTED\n",
    "select_product_info = \"\"\"SELECT count(*)\n",
    "                            FROM product\"\"\"\n",
    "\n",
    "try:\n",
    "    rows = session.execute(select_product_info)\n",
    "    print (rows[0].count)\n",
    "except Exception as e:\n",
    "    print(e)"
   ]
  },
  {
   "cell_type": "markdown",
   "metadata": {},
   "source": [
    "## Table: Transaction"
   ]
  },
  {
   "cell_type": "code",
   "execution_count": 22,
   "metadata": {},
   "outputs": [],
   "source": [
    "create_transaction = \"\"\"CREATE TABLE IF NOT EXISTS transaction (\n",
    "                                                reviews_username text,\n",
    "                                                productid text,\n",
    "                                                dateAdded timestamp,\n",
    "                                                dateUpdated timestamp,\n",
    "                                                PRIMARY KEY((reviews_username, productid), dateAdded\n",
    "                                                )\n",
    "                                                )\"\"\"\n",
    "try:\n",
    "    rows = session.execute(create_transaction)\n",
    "except Exception as e:\n",
    "    print(e)"
   ]
  },
  {
   "cell_type": "code",
   "execution_count": 24,
   "metadata": {},
   "outputs": [],
   "source": [
    "query_insert_transaction = \"\"\"INSERT INTO transaction (\n",
    "                                                reviews_username,\n",
    "                                                productid,\n",
    "                                                dateAdded,\n",
    "                                                dateUpdated\n",
    "                                                ) VALUES (%s, %s, %s, %s)\"\"\"\n",
    "\n",
    "\n",
    "\n",
    "for index, row in df2.iterrows():\n",
    "    try:\n",
    "        session.execute(query_insert_transaction,\n",
    "                        (row[\"reviews_username\"],row[\"productid\"],  row['dateAdded'], row[\"dateUpdated\"]))   \n",
    "    except Exception as e:\n",
    "        print(e)"
   ]
  },
  {
   "cell_type": "code",
   "execution_count": 5,
   "metadata": {
    "scrolled": false
   },
   "outputs": [
    {
     "name": "stdout",
     "output_type": "stream",
     "text": [
      "6983\n"
     ]
    },
    {
     "name": "stderr",
     "output_type": "stream",
     "text": [
      "C:\\Users\\qycer\\Anaconda3\\lib\\site-packages\\ipykernel_launcher.py:7: DeprecationWarning: ResultSet indexing support will be removed in 4.0. Consider using ResultSet.one() to get a single row.\n",
      "  import sys\n"
     ]
    }
   ],
   "source": [
    "#CHECK HOW MANY WE HAVE INSERTED\n",
    "select_transaction_info = \"\"\"SELECT count(*)\n",
    "                            FROM transaction\"\"\"\n",
    "\n",
    "try:\n",
    "    rows = session.execute(select_transaction_info)\n",
    "    print (rows[0].count)\n",
    "except Exception as e:\n",
    "    print(e)"
   ]
  },
  {
   "cell_type": "markdown",
   "metadata": {},
   "source": [
    "# Table： Users"
   ]
  },
  {
   "cell_type": "code",
   "execution_count": 7,
   "metadata": {
    "scrolled": true
   },
   "outputs": [],
   "source": [
    "df_user = df2.drop_duplicates(subset = ['reviews_username', 'Reviews_ID'], keep = 'first')"
   ]
  },
  {
   "cell_type": "code",
   "execution_count": 18,
   "metadata": {},
   "outputs": [
    {
     "data": {
      "text/html": [
       "<div>\n",
       "<style scoped>\n",
       "    .dataframe tbody tr th:only-of-type {\n",
       "        vertical-align: middle;\n",
       "    }\n",
       "\n",
       "    .dataframe tbody tr th {\n",
       "        vertical-align: top;\n",
       "    }\n",
       "\n",
       "    .dataframe thead th {\n",
       "        text-align: right;\n",
       "    }\n",
       "</style>\n",
       "<table border=\"1\" class=\"dataframe\">\n",
       "  <thead>\n",
       "    <tr style=\"text-align: right;\">\n",
       "      <th></th>\n",
       "      <th>productid</th>\n",
       "      <th>asins</th>\n",
       "      <th>brand</th>\n",
       "      <th>categories</th>\n",
       "      <th>colors</th>\n",
       "      <th>dateAdded</th>\n",
       "      <th>dateUpdated</th>\n",
       "      <th>dimension</th>\n",
       "      <th>imageURLs</th>\n",
       "      <th>manufacturer</th>\n",
       "      <th>...</th>\n",
       "      <th>primaryCategories</th>\n",
       "      <th>reviews_date</th>\n",
       "      <th>reviews_doRecommend</th>\n",
       "      <th>reviews_numHelpful</th>\n",
       "      <th>reviews_rating</th>\n",
       "      <th>reviews_text</th>\n",
       "      <th>reviews_title</th>\n",
       "      <th>reviews_username</th>\n",
       "      <th>weight</th>\n",
       "      <th>Reviews_ID</th>\n",
       "    </tr>\n",
       "  </thead>\n",
       "  <tbody>\n",
       "    <tr>\n",
       "      <th>0</th>\n",
       "      <td>AVpf3txeLJeJML43FN82</td>\n",
       "      <td>B0168YIWSI</td>\n",
       "      <td>Microsoft</td>\n",
       "      <td>Electronics,Computers,Computer Accessories,Key...</td>\n",
       "      <td>Black</td>\n",
       "      <td>2015-11-13T12:28:09Z</td>\n",
       "      <td>2018-01-29T02:15:13Z</td>\n",
       "      <td>11.6 in x 8.5 in x 0.19 in</td>\n",
       "      <td>https://i5.walmartimages.com/asr/2a41f6f0-844e...</td>\n",
       "      <td>Microsoft</td>\n",
       "      <td>...</td>\n",
       "      <td>Electronics</td>\n",
       "      <td>2015-12-04T00:00:00.000Z</td>\n",
       "      <td>True</td>\n",
       "      <td>0.0</td>\n",
       "      <td>5.0</td>\n",
       "      <td>This keyboard is very easy to type on, but the...</td>\n",
       "      <td>Love the fingerprint reader</td>\n",
       "      <td>JNH1</td>\n",
       "      <td>1.1 pounds</td>\n",
       "      <td>1</td>\n",
       "    </tr>\n",
       "    <tr>\n",
       "      <th>1</th>\n",
       "      <td>AVpf3txeLJeJML43FN82</td>\n",
       "      <td>B0168YIWSI</td>\n",
       "      <td>Microsoft</td>\n",
       "      <td>Electronics,Computers,Computer Accessories,Key...</td>\n",
       "      <td>Black</td>\n",
       "      <td>2015-11-13T12:28:09Z</td>\n",
       "      <td>2018-01-29T02:15:13Z</td>\n",
       "      <td>11.6 in x 8.5 in x 0.19 in</td>\n",
       "      <td>https://i5.walmartimages.com/asr/2a41f6f0-844e...</td>\n",
       "      <td>Microsoft</td>\n",
       "      <td>...</td>\n",
       "      <td>Electronics</td>\n",
       "      <td>2015-12-04T00:00:00.000Z</td>\n",
       "      <td>True</td>\n",
       "      <td>0.0</td>\n",
       "      <td>4.0</td>\n",
       "      <td>It's thin and light. I can type pretty easily ...</td>\n",
       "      <td>Nice</td>\n",
       "      <td>Appa</td>\n",
       "      <td>1.1 pounds</td>\n",
       "      <td>2</td>\n",
       "    </tr>\n",
       "    <tr>\n",
       "      <th>2</th>\n",
       "      <td>AVpf3txeLJeJML43FN82</td>\n",
       "      <td>B0168YIWSI</td>\n",
       "      <td>Microsoft</td>\n",
       "      <td>Electronics,Computers,Computer Accessories,Key...</td>\n",
       "      <td>Black</td>\n",
       "      <td>2015-11-13T12:28:09Z</td>\n",
       "      <td>2018-01-29T02:15:13Z</td>\n",
       "      <td>11.6 in x 8.5 in x 0.19 in</td>\n",
       "      <td>https://i5.walmartimages.com/asr/2a41f6f0-844e...</td>\n",
       "      <td>Microsoft</td>\n",
       "      <td>...</td>\n",
       "      <td>Electronics</td>\n",
       "      <td>2015-12-04T00:00:00.000Z</td>\n",
       "      <td>True</td>\n",
       "      <td>0.0</td>\n",
       "      <td>4.0</td>\n",
       "      <td>I love the new design the keys are spaced well...</td>\n",
       "      <td>New</td>\n",
       "      <td>Kman</td>\n",
       "      <td>1.1 pounds</td>\n",
       "      <td>3</td>\n",
       "    </tr>\n",
       "    <tr>\n",
       "      <th>3</th>\n",
       "      <td>AVpf3txeLJeJML43FN82</td>\n",
       "      <td>B0168YIWSI</td>\n",
       "      <td>Microsoft</td>\n",
       "      <td>Electronics,Computers,Computer Accessories,Key...</td>\n",
       "      <td>Black</td>\n",
       "      <td>2015-11-13T12:28:09Z</td>\n",
       "      <td>2018-01-29T02:15:13Z</td>\n",
       "      <td>11.6 in x 8.5 in x 0.19 in</td>\n",
       "      <td>https://i5.walmartimages.com/asr/2a41f6f0-844e...</td>\n",
       "      <td>Microsoft</td>\n",
       "      <td>...</td>\n",
       "      <td>Electronics</td>\n",
       "      <td>2015-12-01T00:00:00.000Z</td>\n",
       "      <td>True</td>\n",
       "      <td>0.0</td>\n",
       "      <td>5.0</td>\n",
       "      <td>Attached easily and firmly. Has a nice feel. A...</td>\n",
       "      <td>Nice keyboard</td>\n",
       "      <td>UpstateNY</td>\n",
       "      <td>1.1 pounds</td>\n",
       "      <td>4</td>\n",
       "    </tr>\n",
       "    <tr>\n",
       "      <th>4</th>\n",
       "      <td>AVpf3txeLJeJML43FN82</td>\n",
       "      <td>B0168YIWSI</td>\n",
       "      <td>Microsoft</td>\n",
       "      <td>Electronics,Computers,Computer Accessories,Key...</td>\n",
       "      <td>Black</td>\n",
       "      <td>2015-11-13T12:28:09Z</td>\n",
       "      <td>2018-01-29T02:15:13Z</td>\n",
       "      <td>11.6 in x 8.5 in x 0.19 in</td>\n",
       "      <td>https://i5.walmartimages.com/asr/2a41f6f0-844e...</td>\n",
       "      <td>Microsoft</td>\n",
       "      <td>...</td>\n",
       "      <td>Electronics</td>\n",
       "      <td>2015-11-28T00:00:00.000Z</td>\n",
       "      <td>True</td>\n",
       "      <td>0.0</td>\n",
       "      <td>5.0</td>\n",
       "      <td>Our original keyboard was okay, but did not ha...</td>\n",
       "      <td>Nice improvement</td>\n",
       "      <td>Glickster</td>\n",
       "      <td>1.1 pounds</td>\n",
       "      <td>5</td>\n",
       "    </tr>\n",
       "  </tbody>\n",
       "</table>\n",
       "<p>5 rows × 22 columns</p>\n",
       "</div>"
      ],
      "text/plain": [
       "              productid       asins      brand  \\\n",
       "0  AVpf3txeLJeJML43FN82  B0168YIWSI  Microsoft   \n",
       "1  AVpf3txeLJeJML43FN82  B0168YIWSI  Microsoft   \n",
       "2  AVpf3txeLJeJML43FN82  B0168YIWSI  Microsoft   \n",
       "3  AVpf3txeLJeJML43FN82  B0168YIWSI  Microsoft   \n",
       "4  AVpf3txeLJeJML43FN82  B0168YIWSI  Microsoft   \n",
       "\n",
       "                                          categories colors  \\\n",
       "0  Electronics,Computers,Computer Accessories,Key...  Black   \n",
       "1  Electronics,Computers,Computer Accessories,Key...  Black   \n",
       "2  Electronics,Computers,Computer Accessories,Key...  Black   \n",
       "3  Electronics,Computers,Computer Accessories,Key...  Black   \n",
       "4  Electronics,Computers,Computer Accessories,Key...  Black   \n",
       "\n",
       "              dateAdded           dateUpdated                   dimension  \\\n",
       "0  2015-11-13T12:28:09Z  2018-01-29T02:15:13Z  11.6 in x 8.5 in x 0.19 in   \n",
       "1  2015-11-13T12:28:09Z  2018-01-29T02:15:13Z  11.6 in x 8.5 in x 0.19 in   \n",
       "2  2015-11-13T12:28:09Z  2018-01-29T02:15:13Z  11.6 in x 8.5 in x 0.19 in   \n",
       "3  2015-11-13T12:28:09Z  2018-01-29T02:15:13Z  11.6 in x 8.5 in x 0.19 in   \n",
       "4  2015-11-13T12:28:09Z  2018-01-29T02:15:13Z  11.6 in x 8.5 in x 0.19 in   \n",
       "\n",
       "                                           imageURLs manufacturer    ...      \\\n",
       "0  https://i5.walmartimages.com/asr/2a41f6f0-844e...    Microsoft    ...       \n",
       "1  https://i5.walmartimages.com/asr/2a41f6f0-844e...    Microsoft    ...       \n",
       "2  https://i5.walmartimages.com/asr/2a41f6f0-844e...    Microsoft    ...       \n",
       "3  https://i5.walmartimages.com/asr/2a41f6f0-844e...    Microsoft    ...       \n",
       "4  https://i5.walmartimages.com/asr/2a41f6f0-844e...    Microsoft    ...       \n",
       "\n",
       "  primaryCategories              reviews_date reviews_doRecommend  \\\n",
       "0       Electronics  2015-12-04T00:00:00.000Z                True   \n",
       "1       Electronics  2015-12-04T00:00:00.000Z                True   \n",
       "2       Electronics  2015-12-04T00:00:00.000Z                True   \n",
       "3       Electronics  2015-12-01T00:00:00.000Z                True   \n",
       "4       Electronics  2015-11-28T00:00:00.000Z                True   \n",
       "\n",
       "  reviews_numHelpful  reviews_rating  \\\n",
       "0                0.0             5.0   \n",
       "1                0.0             4.0   \n",
       "2                0.0             4.0   \n",
       "3                0.0             5.0   \n",
       "4                0.0             5.0   \n",
       "\n",
       "                                        reviews_text  \\\n",
       "0  This keyboard is very easy to type on, but the...   \n",
       "1  It's thin and light. I can type pretty easily ...   \n",
       "2  I love the new design the keys are spaced well...   \n",
       "3  Attached easily and firmly. Has a nice feel. A...   \n",
       "4  Our original keyboard was okay, but did not ha...   \n",
       "\n",
       "                 reviews_title reviews_username      weight Reviews_ID  \n",
       "0  Love the fingerprint reader             JNH1  1.1 pounds          1  \n",
       "1                         Nice             Appa  1.1 pounds          2  \n",
       "2                          New             Kman  1.1 pounds          3  \n",
       "3                Nice keyboard        UpstateNY  1.1 pounds          4  \n",
       "4             Nice improvement        Glickster  1.1 pounds          5  \n",
       "\n",
       "[5 rows x 22 columns]"
      ]
     },
     "execution_count": 18,
     "metadata": {},
     "output_type": "execute_result"
    }
   ],
   "source": [
    "df_user.head()"
   ]
  },
  {
   "cell_type": "code",
   "execution_count": 24,
   "metadata": {},
   "outputs": [],
   "source": [
    "create_users = \"\"\"CREATE TABLE IF NOT EXISTS users (\n",
    "                                                reviews_username text,\n",
    "                                                reviews_id int,\n",
    "                                                ProductName text,\n",
    "                                                reviews_rating float,\n",
    "                                                reviews_doRecommend boolean,\n",
    "                                                reviews_title text,\n",
    "                                                reviews_text text,\n",
    "                                                \n",
    "                                                PRIMARY KEY((reviews_username), reviews_id)\n",
    "                                                \n",
    "                                                )\"\"\"\n",
    "try:\n",
    "    rows = session.execute(create_users)\n",
    "except Exception as e:\n",
    "    print(e)"
   ]
  },
  {
   "cell_type": "code",
   "execution_count": 25,
   "metadata": {},
   "outputs": [],
   "source": [
    "query_insert_users = \"\"\"INSERT INTO users (\n",
    "                                                reviews_username,\n",
    "                                                reviews_id,\n",
    "                                                ProductName,\n",
    "                                                reviews_rating,\n",
    "                                                reviews_doRecommend,\n",
    "                                                reviews_title,\n",
    "                                                reviews_text\n",
    "                                                ) VALUES (%s, %s, %s, %s, %s, %s, %s)\"\"\"\n",
    "\n",
    "\n",
    "\n",
    "for index, row in df_user.iterrows():\n",
    "    try:\n",
    "        session.execute(query_insert_users,\n",
    "                        (row[\"reviews_username\"],row[\"Reviews_ID\"], row[\"ProductName\"],\n",
    "                        row[\"reviews_rating\"],row[\"reviews_doRecommend\"], row[\"reviews_title\"], row[\"reviews_text\"]))   \n",
    "    except Exception as e:\n",
    "        print(e)"
   ]
  },
  {
   "cell_type": "code",
   "execution_count": 26,
   "metadata": {
    "scrolled": true
   },
   "outputs": [
    {
     "name": "stdout",
     "output_type": "stream",
     "text": [
      "6983\n"
     ]
    },
    {
     "name": "stderr",
     "output_type": "stream",
     "text": [
      "C:\\Users\\qycer\\Anaconda3\\lib\\site-packages\\ipykernel_launcher.py:7: DeprecationWarning: ResultSet indexing support will be removed in 4.0. Consider using ResultSet.one() to get a single row.\n",
      "  import sys\n"
     ]
    }
   ],
   "source": [
    "#CHECK HOW MANY WE HAVE INSERTED\n",
    "select_users_info = \"\"\"SELECT count(*)\n",
    "                            FROM users\"\"\"\n",
    "\n",
    "try:\n",
    "    rows = session.execute(select_users_info)\n",
    "    print (rows[0].count)\n",
    "except Exception as e:\n",
    "    print(e)"
   ]
  },
  {
   "cell_type": "code",
   "execution_count": 23,
   "metadata": {
    "scrolled": true
   },
   "outputs": [
    {
     "data": {
      "text/plain": [
       "<cassandra.cluster.ResultSet at 0x130db387dd8>"
      ]
     },
     "execution_count": 23,
     "metadata": {},
     "output_type": "execute_result"
    }
   ],
   "source": [
    "session.execute(\"drop table users\")"
   ]
  },
  {
   "cell_type": "markdown",
   "metadata": {},
   "source": [
    "# Table: Manufacturer"
   ]
  },
  {
   "cell_type": "code",
   "execution_count": 27,
   "metadata": {},
   "outputs": [],
   "source": [
    "df_manu = df2.drop_duplicates(subset = ['manufacturer', 'manufacturerNumber'], keep = 'first')"
   ]
  },
  {
   "cell_type": "code",
   "execution_count": 29,
   "metadata": {},
   "outputs": [],
   "source": [
    "create_manufacturer = \"\"\"CREATE TABLE IF NOT EXISTS manufacturer (\n",
    "                                                manufacturer text,\n",
    "                                                ManufacturerNumber text,\n",
    "                                                \n",
    "                                                PRIMARY KEY((manufacturer), ManufacturerNumber)\n",
    "                                                \n",
    "                                                )\"\"\"\n",
    "try:\n",
    "    rows = session.execute(create_manufacturer)\n",
    "except Exception as e:\n",
    "    print(e)"
   ]
  },
  {
   "cell_type": "code",
   "execution_count": 31,
   "metadata": {},
   "outputs": [],
   "source": [
    "query_insert_manufacturer = \"\"\"INSERT INTO manufacturer (\n",
    "                                                manufacturer,\n",
    "                                                ManufacturerNumber\n",
    "                                                ) VALUES (%s, %s)\"\"\"\n",
    "\n",
    "\n",
    "\n",
    "for index, row in df_manu.iterrows():\n",
    "    try:\n",
    "        session.execute(query_insert_manufacturer,\n",
    "                        (row[\"manufacturer\"],row[\"manufacturerNumber\"]))   \n",
    "    except Exception as e:\n",
    "        print(e)"
   ]
  },
  {
   "cell_type": "code",
   "execution_count": 32,
   "metadata": {},
   "outputs": [
    {
     "name": "stdout",
     "output_type": "stream",
     "text": [
      "50\n"
     ]
    },
    {
     "name": "stderr",
     "output_type": "stream",
     "text": [
      "C:\\Users\\qycer\\Anaconda3\\lib\\site-packages\\ipykernel_launcher.py:7: DeprecationWarning: ResultSet indexing support will be removed in 4.0. Consider using ResultSet.one() to get a single row.\n",
      "  import sys\n"
     ]
    }
   ],
   "source": [
    "#CHECK HOW MANY WE HAVE INSERTED\n",
    "select_manu_info = \"\"\"SELECT count(*)\n",
    "                            FROM manufacturer\"\"\"\n",
    "\n",
    "try:\n",
    "    rows = session.execute(select_manu_info)\n",
    "    print (rows[0].count)\n",
    "except Exception as e:\n",
    "    print(e)"
   ]
  }
 ],
 "metadata": {
  "kernelspec": {
   "display_name": "Python 3",
   "language": "python",
   "name": "python3"
  },
  "language_info": {
   "codemirror_mode": {
    "name": "ipython",
    "version": 3
   },
   "file_extension": ".py",
   "mimetype": "text/x-python",
   "name": "python",
   "nbconvert_exporter": "python",
   "pygments_lexer": "ipython3",
   "version": "3.7.1"
  }
 },
 "nbformat": 4,
 "nbformat_minor": 2
}
